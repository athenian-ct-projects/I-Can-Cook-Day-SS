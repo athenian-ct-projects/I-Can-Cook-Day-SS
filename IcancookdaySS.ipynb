{
  "nbformat": 4,
  "nbformat_minor": 0,
  "metadata": {
    "colab": {
      "name": "Sonya",
      "provenance": [],
      "collapsed_sections": [],
      "include_colab_link": true
    },
    "kernelspec": {
      "name": "python3",
      "display_name": "Python 3"
    }
  },
  "cells": [
    {
      "cell_type": "markdown",
      "metadata": {
        "id": "view-in-github",
        "colab_type": "text"
      },
      "source": [
        "<a href=\"https://colab.research.google.com/github/athenian-ct-projects/I-Can-Cook-Day-SS/blob/master/IcancookdaySS.ipynb\" target=\"_parent\"><img src=\"https://colab.research.google.com/assets/colab-badge.svg\" alt=\"Open In Colab\"/></a>"
      ]
    },
    {
      "cell_type": "code",
      "metadata": {
        "id": "is2dff6QVv3G",
        "colab_type": "code",
        "colab": {}
      },
      "source": [
        "#final project - build your own cupcake (these are a couple options, but you don't need to follow through)!!!!!!!\n",
        "#flavors - chocolate, vanilla, strawberry\n",
        "#filling - strawberries, chocolate, nuts, none\n",
        "#frosting - chocolate, buttercream, cream cheese\n",
        "#sprinkles - rainbow, chocolate, white, none\n",
        "#drinks - water, lemonade, coffee"
      ],
      "execution_count": 0,
      "outputs": []
    },
    {
      "cell_type": "code",
      "metadata": {
        "id": "znuMTJ-WpO-f",
        "colab_type": "code",
        "outputId": "4253a26e-2c58-4c73-a353-180395106b1e",
        "colab": {
          "base_uri": "https://localhost:8080/",
          "height": 87
        }
      },
      "source": [
        "print(\"Hello! You are playing the dessert game!\") \n",
        "print (\"This includes a series of questions about your preferences about a cupcake.\") \n",
        "print (\"Then, you'll get your final product - a virtual dessert\")"
      ],
      "execution_count": 0,
      "outputs": [
        {
          "output_type": "stream",
          "text": [
            "Hello! You are playing the dessert game!\n",
            "This includes a series of questions about your preferences about a cupcake.\n",
            "Then, you'll get your final product - a virtual dessert\n"
          ],
          "name": "stdout"
        }
      ]
    },
    {
      "cell_type": "code",
      "metadata": {
        "id": "nlMpirhio-a7",
        "colab_type": "code",
        "outputId": "1bdd893f-a959-4262-9292-cff68dbede0d",
        "colab": {
          "base_uri": "https://localhost:8080/",
          "height": 71
        }
      },
      "source": [
        "name = input(\"what is your name\")\n",
        "print (\"hello \" + name)"
      ],
      "execution_count": 0,
      "outputs": [
        {
          "output_type": "stream",
          "text": [
            "what is your namemish\n",
            "hello mish\n"
          ],
          "name": "stdout"
        }
      ]
    },
    {
      "cell_type": "code",
      "metadata": {
        "id": "zP3VaTey-iwH",
        "colab_type": "code",
        "outputId": "e16071f9-51a4-4405-bd19-6575f4be62cb",
        "colab": {
          "base_uri": "https://localhost:8080/",
          "height": 54
        }
      },
      "source": [
        "def printMakingcupcakes():\n",
        "  print(\"let's get making\")\n",
        "\n",
        "printMakingcupcakes()"
      ],
      "execution_count": 0,
      "outputs": [
        {
          "output_type": "stream",
          "text": [
            "let's get making\n"
          ],
          "name": "stdout"
        }
      ]
    },
    {
      "cell_type": "code",
      "metadata": {
        "id": "pFeKIJClpR__",
        "colab_type": "code",
        "outputId": "c87284df-ab74-4a3f-f056-2c2b65621cdc",
        "colab": {
          "base_uri": "https://localhost:8080/",
          "height": 87
        }
      },
      "source": [
        "print (\"Now, we will start with cupcake flavors\")\n",
        "flavor = input (\"What is your favorite flavor\")\n",
        "print (\"your favorite flavor is \" + flavor)"
      ],
      "execution_count": 0,
      "outputs": [
        {
          "output_type": "stream",
          "text": [
            "Now, we will start with cupcake flavors\n",
            "What is your favorite flavorstrawberry\n",
            "your favorite flavor is strawberry\n"
          ],
          "name": "stdout"
        }
      ]
    },
    {
      "cell_type": "code",
      "metadata": {
        "id": "HfmItM31qnJD",
        "colab_type": "code",
        "outputId": "94b225f0-b1d3-485e-a9bc-b5f74540d4ae",
        "colab": {
          "base_uri": "https://localhost:8080/",
          "height": 87
        }
      },
      "source": [
        "print (\"Now, we will choose your favorite cupcake filling\")\n",
        "filling = input (\"What is your favorite filling, if you would like no filling, type 3\")\n",
        "x = filling\n",
        "if x == '3':\n",
        "  print ('you have no filling')\n",
        "elif x != '3':\n",
        "  print (\"your favorite filling is \" + filling)"
      ],
      "execution_count": 0,
      "outputs": [
        {
          "output_type": "stream",
          "text": [
            "Now, we will choose your favorite cupcake filling\n",
            "What is your favorite filling, if you would like no filling, type 33\n",
            "you have no filling\n"
          ],
          "name": "stdout"
        }
      ]
    },
    {
      "cell_type": "code",
      "metadata": {
        "id": "MIzo9PKQrE4C",
        "colab_type": "code",
        "outputId": "f27d7370-439b-4854-bad4-3a39062be7cc",
        "colab": {
          "base_uri": "https://localhost:8080/",
          "height": 87
        }
      },
      "source": [
        "\n",
        "print (\"Now, we will choose your favorite cupcake frosting\")\n",
        "frosting = input (\"What is your favorite frosting\")\n",
        "print (\"your favorite frosting is \" + frosting)"
      ],
      "execution_count": 0,
      "outputs": [
        {
          "output_type": "stream",
          "text": [
            "Now, we will choose your favorite cupcake frosting\n",
            "What is your favorite frostingbuttercream\n",
            "your favorite frosting is buttercream\n"
          ],
          "name": "stdout"
        }
      ]
    },
    {
      "cell_type": "code",
      "metadata": {
        "id": "98n7xTZ0rPl9",
        "colab_type": "code",
        "outputId": "9479d0c5-afa2-41b8-ea5d-daee0655b09c",
        "colab": {
          "base_uri": "https://localhost:8080/",
          "height": 153
        }
      },
      "source": [
        "print (\"Now, we will choose your favorite type of sprinkles\")\n",
        "sprinkles = input (\"What are your favorite kind of sprinkles\")\n",
        "print (\"your favorite kind of sprinkles are \" + sprinkles)\n",
        "\n",
        "numberofsprinkles = int(input (\"How many sprinkles would you like? \"))\n",
        "for x in range (numberofsprinkles):\n",
        "  print (\"I added sprinkles\")"
      ],
      "execution_count": 0,
      "outputs": [
        {
          "output_type": "stream",
          "text": [
            "Now, we will choose your favorite type of sprinkles\n",
            "What are your favorite kind of sprinklesrainbow\n",
            "your favorite kind of sprinkles are rainbow\n",
            "How many sprinkles would you like? 3\n",
            "I added sprinkles\n",
            "I added sprinkles\n",
            "I added sprinkles\n"
          ],
          "name": "stdout"
        }
      ]
    },
    {
      "cell_type": "code",
      "metadata": {
        "id": "zhvibG9-D5L5",
        "colab_type": "code",
        "outputId": "dc5a661d-1876-452c-fc38-7161746201d8",
        "colab": {
          "base_uri": "https://localhost:8080/",
          "height": 54
        }
      },
      "source": [
        "print (\"Last step, choose a random drink with your cupcake\")"
      ],
      "execution_count": 0,
      "outputs": [
        {
          "output_type": "stream",
          "text": [
            "Last step, choose a random drink with your cupcake\n"
          ],
          "name": "stdout"
        }
      ]
    },
    {
      "cell_type": "code",
      "metadata": {
        "id": "WdfkmtUHC9Sc",
        "colab_type": "code",
        "outputId": "b5d7b6e1-25be-454f-d139-2d624cb14355",
        "colab": {
          "base_uri": "https://localhost:8080/",
          "height": 120
        }
      },
      "source": [
        "numberofdrinks = int(input (\"enter a number from 0-2, corresponding to a drink:\"))\n",
        "\n",
        "listofdrinks = [\"water\", \"lemonade\", \"coffee\"]\n",
        "print(listofdrinks[numberofdrinks])\n",
        "#im pouring the drink\n",
        "print(\"Let me know when to stop\")\n",
        "pour = \"\"\n",
        "while pour != \"stop\":\n",
        "  pour = input ('Im gonna pour your drink - type \"stop\" to stop') \n",
        "print (\"You have your drink!\")"
      ],
      "execution_count": 0,
      "outputs": [
        {
          "output_type": "stream",
          "text": [
            "enter a number from 0-2, corresponding to a drink:1\n",
            "lemonade\n",
            "Let me know when to stop\n",
            "Im gonna pour your drink - type \"stop\" to stopstop\n",
            "You have your drink!\n"
          ],
          "name": "stdout"
        }
      ]
    },
    {
      "cell_type": "code",
      "metadata": {
        "id": "OIdUR6al_r36",
        "colab_type": "code",
        "outputId": "76bf1cbc-39ef-4d5b-ebc0-a5b5c665a8f5",
        "colab": {
          "base_uri": "https://localhost:8080/",
          "height": 54
        }
      },
      "source": [
        "printMakingcupcakes()"
      ],
      "execution_count": 0,
      "outputs": [
        {
          "output_type": "stream",
          "text": [
            "let's get making\n"
          ],
          "name": "stdout"
        }
      ]
    },
    {
      "cell_type": "code",
      "metadata": {
        "id": "BHqyqR_M_vzI",
        "colab_type": "code",
        "outputId": "9d9c502d-fadc-4e1a-8d63-a1b749f76649",
        "colab": {
          "base_uri": "https://localhost:8080/",
          "height": 54
        }
      },
      "source": [
        "print (\"You've made a cupcake with \"+ flavor + \" and \" + filling + \" and \" + frosting + \" and you have \" + sprinkles + \" and \" + (listofdrinks[numberofdrinks]))"
      ],
      "execution_count": 0,
      "outputs": [
        {
          "output_type": "stream",
          "text": [
            "You've made a cupcake with vanilla and 3 and vanilla and you have vanilla  and coffee\n"
          ],
          "name": "stdout"
        }
      ]
    }
  ]
}